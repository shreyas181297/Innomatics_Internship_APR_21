{
 "cells": [
  {
   "cell_type": "markdown",
   "metadata": {},
   "source": [
    "# Hypothesis Testing"
   ]
  },
  {
   "cell_type": "markdown",
   "metadata": {},
   "source": [
    "The general idea of hypothesis testing involves:\n",
    "<ol type='1'>\n",
    "<li>Making an initial assumption.\n",
    "<li>Collecting evidence (data).\n",
    "<li>Based on the available evidence (data), deciding whether to reject or not reject the initial assumption.\n",
    "</ol>\n",
    "Every hypothesis test, regardless of the population parameter involved requires the above three steps."
   ]
  },
  {
   "cell_type": "markdown",
   "metadata": {},
   "source": [
    "Hypothesis testing is the process used to evaluate the strength of evidence from the sample and provides a framework for making determinations related to the population, ie, it provides a method for understanding how reliably one can extrapolate observed findings in a sample under study to the larger population from which the sample was drawn"
   ]
  },
  {
   "cell_type": "markdown",
   "metadata": {},
   "source": [
    "<img src=\"h.png\">"
   ]
  },
  {
   "cell_type": "markdown",
   "metadata": {},
   "source": [
    "# How to perform Hypothesis Testing"
   ]
  },
  {
   "cell_type": "markdown",
   "metadata": {},
   "source": [
    "<b>$\\underline{Step-1:}$</b>\n",
    "<p>Alternate Hypothesis (Bold Claim): $$ H_1 \\Rightarrow \\ \\geq,\\  \\leq , \\neq $$\n",
    "Null Hypothesis (Status Quo/Ground Truth): $$ H_0 \\Rightarrow \\ >,\\  < , = $$\n",
    "<b>$\\underline{Step-2:}$</b>\n",
    "<p><ul><li>Collect a sample of size n\n",
    "<li>Compute the mean from this sample $ \\bar{x} $</ul>\n",
    "<b>$\\underline{Step-3:}$</b>\n",
    "<ul><li>If population Standard deviation $(\\sigma)$ is known then we use Z-score;\n",
    "$$ \\text{Z =}\\ \\frac{\\bar{X}-\\mu}{\\frac{\\sigma}{\\sqrt{n}}}    $$\n",
    "<li>If population Standard deviation $(\\sigma)$ is unknown then we can sample standard deviation $(s)$ and calculate t-score;\n",
    "$$ \\text{t =}\\ \\frac{\\bar{X}-\\mu}{\\frac{s}{\\sqrt{n}}}    $$\n",
    "where std.dev. is given by, $$ s = \\sqrt\\frac{\\sum({x-\\bar{x})^{2}}}{n-1}$$"
   ]
  },
  {
   "cell_type": "markdown",
   "metadata": {},
   "source": [
    "$\\underline{Step-4:}$ <p> Decide the Significance Level $(\\alpha)$:\n",
    "Lower $ \\alpha $ means you need stronger evidence to reject Null Hypothesis.\n",
    "$$ \\alpha = 1 - \\text{confidedence} $$\n",
    "    \n",
    "$\\underline{Step-5.1:}$ Apply the Decision Rule:\n",
    "<ol type=\"a\">\n",
    "    <li>If test statistic is <b>Z-score </b>:\n",
    "        <ul>\n",
    "        <li> Two tailed Z-test: \n",
    "            $$ |z| \\ > z_{\\frac{\\alpha}{2}} \\ \\Rightarrow \\ \\text{Accept $H_{1}$} \\ or \\ \\ \\text{Reject $H_{0}$} $$\n",
    "        <li> Right tailed Z-test: \n",
    "            $$ z \\ > z_{\\alpha} \\ \\Rightarrow \\ \\text{Accept $H_{1}$} \\ or \\ \\ \\text{Reject $H_{0}$} $$\n",
    "        <li> Left tailed Z-test: \n",
    "            $$ z \\ < z_{\\alpha} \\ \\Rightarrow \\ \\text{Accept $H_{1}$} \\ or \\ \\ \\text{Reject $H_{0}$} $$\n",
    "            </ul>\n",
    "     <li>If test statistic is <b>t-score</b> :\n",
    "        <ul>\n",
    "        <li> Two tailed t-test: \n",
    "            $$ |t| \\ > t_{n-1,\\frac{\\alpha}{2}} \\ \\Rightarrow \\ \\text{Accept $H_{1}$} \\ or \\ \\ \\text{Reject $H_{0}$} $$\n",
    "        <li> Right tailed Z-test: \n",
    "            $$ t \\ > t_{(n-1),\\frac{\\alpha}{2}} \\ \\Rightarrow \\ \\text{Accept $H_{1}$} \\ or \\ \\ \\text{Reject $H_{0}$} $$\n",
    "        <li> Left tailed Z-test: \n",
    "            $$ t \\ < t_{(n-1),\\frac{\\alpha}{2}} \\ \\Rightarrow \\ \\text{Accept $H_{1}$} \\ or \\ \\ \\text{Reject $H_{0}$} $$\n",
    "         </ul>\n",
    "</ol>\n",
    "$\\underline{Step-5.2:}$ Compute p-value - $ P(\\text{Test Statistics}|H_{0})$\n",
    "<ul>\n",
    "    <li>For two tailed test:\n",
    "        $$ \\text{p value} \\ = 2*(1.0-cdf(\\text{test statistic})) $$\n",
    "    <li>For one tailed test:\n",
    "        $$ \\text{p value} \\ = (1.0-cdf(\\text{test statistic}) $$\n",
    "     Now, \n",
    "        $$ if \\ (\\text{p value} < \\alpha) \\ \\Rightarrow \\ \\text{Accept $H_{1}$} \\ or \\ \\ \\text{Reject $H_{0}$}    $$"
   ]
  },
  {
   "cell_type": "code",
   "execution_count": 1,
   "metadata": {},
   "outputs": [],
   "source": [
    "import matplotlib.pyplot as plt\n",
    "import numpy as np\n",
    "from scipy.stats import norm\n",
    "from scipy.stats import t\n",
    "import pandas as pd\n",
    "def t_score(sample_mean,sample_size,pop_mean,sample_std):\n",
    "    numerator = sample_mean - pop_mean\n",
    "    denominator = sample_std/(sample_size)**0.5\n",
    "    return numerator/denominator"
   ]
  },
  {
   "cell_type": "markdown",
   "metadata": {},
   "source": [
    "# Questions - Population Unknown Standard Deviation \n"
   ]
  },
  {
   "cell_type": "markdown",
   "metadata": {},
   "source": [
    "### <b>Q-1: Pista House selling Hyderabadi Chicken Dum biryani claims that each parcel packet has 500 grams of biryani (also mentioned on the label of packet). You are sceptic of their claims and believe that on average each packet does not contain 500 grams of biryani. How do you prove your claim? "
   ]
  },
  {
   "cell_type": "markdown",
   "metadata": {},
   "source": [
    "<B>Step-1 :</B>Formulate the Null Hypothesis and Alternate hypothesis<p>\n",
    "Alternate Hypothesis (Bold claim) 𝐻1: $ \\mu \\neq 500 $<br>\n",
    "Null Hypothesis (Status Quo) 𝐻0: $ \\mu = 500 $"
   ]
  },
  {
   "cell_type": "markdown",
   "metadata": {},
   "source": [
    "<B>Step-2</B> Defining the Sample and Population Parameters<p>\n",
    "Collect the Sample of size of $\\ n $ : <br>\n",
    "sample =[ 490, 220, 470, 510,420,410,490, 498, 508, 480] <br>\n",
    "Complute the Mean from this sample $ \\ \\bar{X} $<br>"
   ]
  },
  {
   "cell_type": "code",
   "execution_count": 2,
   "metadata": {},
   "outputs": [],
   "source": [
    "sample =  [ 490, 220, 470, 510,420,410,490, 498, 508, 480] \n",
    "sample_mean = sum(sample)/len(sample)\n",
    "sample_size = len(sample)\n",
    "population_mean = 500\n",
    "\n",
    "def sddd(sample):\n",
    "    s = 0\n",
    "    n = len(sample)\n",
    "    for i in sample:\n",
    "        s += (i-sample_mean)**2\n",
    "    sample_std = (s/(n-1))**0.5   \n",
    "    return(sample_std)\n",
    "sample_std = sddd(sample)"
   ]
  },
  {
   "cell_type": "markdown",
   "metadata": {},
   "source": [
    "<B>Step-3:</B> Compute Test Statistic<p>\n",
    "population standard deviaton is unknown so we go for t-score:\n",
    "    $$ t = \\frac{\\bar{x}-\\mu}{\\frac{s}{\\sqrt{n}}} $$"
   ]
  },
  {
   "cell_type": "code",
   "execution_count": 3,
   "metadata": {},
   "outputs": [
    {
     "name": "stdout",
     "output_type": "stream",
     "text": [
      "Value of t-score: -1.8180432274804879\n"
     ]
    }
   ],
   "source": [
    "tscore = t_score(sample_mean,sample_size,population_mean,sample_std)\n",
    "print(\"Value of t-score:\",tscore)"
   ]
  },
  {
   "cell_type": "markdown",
   "metadata": {},
   "source": [
    "<B>Step-4</B><p>\n",
    "Decide $ \\alpha $ or significance level<br>\n",
    "Two Tail - Calculating the t-critical value"
   ]
  },
  {
   "cell_type": "code",
   "execution_count": 4,
   "metadata": {},
   "outputs": [
    {
     "name": "stdout",
     "output_type": "stream",
     "text": [
      "T-critical :  2.2621571627409915\n"
     ]
    }
   ],
   "source": [
    "alpha = 1 - 0.95\n",
    "\n",
    "t_critical = t.ppf(1-alpha/2, df = 9)\n",
    "\n",
    "print(\"T-critical : \",t_critical)\n"
   ]
  },
  {
   "cell_type": "markdown",
   "metadata": {},
   "source": [
    "<b>Step- 5.1:</b> Conclusion using t test\n",
    "\n",
    "<br>\n",
    "For two tailed test:"
   ]
  },
  {
   "cell_type": "code",
   "execution_count": 5,
   "metadata": {},
   "outputs": [
    {
     "name": "stdout",
     "output_type": "stream",
     "text": [
      "Fail to reject Null Hypothesis\n"
     ]
    }
   ],
   "source": [
    "if(np.abs(tscore) > t_critical):\n",
    "    print(\"Reject Null Hypothesis\")\n",
    "else:\n",
    "    print(\"Fail to reject Null Hypothesis\")"
   ]
  },
  {
   "cell_type": "markdown",
   "metadata": {},
   "source": [
    "<b>Step- 5.2:</b> Compute p-value and determing results:\n",
    "<br>\n",
    "For two tailed test:\n",
    "$$ \\text{p value} \\ = 2*(1.0-cdf(\\text{test statistic})) $$\n",
    "<br>\n",
    "Now, \n",
    "$$ if \\ (\\text{p value} < \\alpha) \\ \\Rightarrow \\ \\text{Accept $H_{1}$} \\ or \\ \\ \\text{Reject $H_{0}$}    $$"
   ]
  },
  {
   "cell_type": "code",
   "execution_count": 6,
   "metadata": {},
   "outputs": [
    {
     "name": "stdout",
     "output_type": "stream",
     "text": [
      "p_value =  0.05121031528587083\n",
      "Fail to reject Null Hypothesis\n"
     ]
    }
   ],
   "source": [
    "\n",
    "pval = 1.0 - t.cdf(np.abs(tscore), df = 9)\n",
    "\n",
    "print(\"p_value = \", pval)\n",
    "\n",
    "if(pval < alpha):\n",
    "    print(\"Reject Null Hypothesis\")\n",
    "else:\n",
    "    print(\"Fail to reject Null Hypothesis\")"
   ]
  },
  {
   "cell_type": "code",
   "execution_count": 7,
   "metadata": {},
   "outputs": [
    {
     "data": {
      "image/png": "[encoded data removed]",
      "text/plain": [
       "<Figure size 432x288 with 1 Axes>"
      ]
     },
     "metadata": {
      "needs_background": "light"
     },
     "output_type": "display_data"
    }
   ],
   "source": [
    "x_min = 400\n",
    "x_max = 600\n",
    "mean = population_mean\n",
    "std = sample_std / sample_size**0.5\n",
    "x = np.linspace(x_min, x_max, 100)\n",
    "y = norm.pdf(x, mean, std)\n",
    "plt.xlim(x_min, x_max)\n",
    "plt.plot(x, y)\n",
    "t_critical_left = population_mean + (-t_critical * std)\n",
    "t_critical_right = population_mean + (t_critical * std)\n",
    "x1 = np.linspace(x_min, t_critical_left, 100)\n",
    "y1 = norm.pdf(x1, mean, std)\n",
    "plt.fill_between(x1, y1, color='orange')\n",
    "x2 = np.linspace(t_critical_right, x_max, 100)\n",
    "y2 = norm.pdf(x2, mean, std)\n",
    "plt.fill_between(x2, y2, color='orange')\n",
    "plt.scatter(sample_mean, 0)\n",
    "plt.annotate(\"x_bar\", (sample_mean, 0.0007))\n",
    "plt.show()"
   ]
  },
  {
   "cell_type": "markdown",
   "metadata": {},
   "source": [
    "### Q.1 Answer - We fail to Reject Null Hypothsis\n",
    "We cannot say a packet of biryani does not contain 500 grams"
   ]
  },
  {
   "cell_type": "markdown",
   "metadata": {},
   "source": [
    "### <B>Q-2: You have developed a new Natural Language Processing Algorithms and done a user study. You claim that the average rating given by the users is greater than 4 on a scale of 1 to 5. How do you prove this to your client?</B>\n"
   ]
  },
  {
   "cell_type": "markdown",
   "metadata": {},
   "source": [
    "<B>Step - 1:</B>Formulate the Null Hypothesis and Alternate hypothesis<br>\n",
    "<ul>\n",
    "    <li>Alternate Hypothesis (Bold Claim): $$ H_1: \\ \\text{Average rating}: \\  \\mu > 4 $$ \n",
    "    <li>Null Hypothesis (Status Quo): $$ H_0: \\ \\text{Average rating}:  \\ \\mu \\ \\leq 4 $$\n",
    "        </ul>\n",
    "<B>Step - 2:</B>Defining the Sample and Population Parameters\n",
    "<br>\n",
    "<ul>\n",
    "    Collect a sample of size n = 20 <br>sample= [4, 3, 5, 4, 5, 3, 5, 5, 4, 2, 4, 5, 5, 4, 4, 5, 3,4,5,2]\n",
    "    <br>Compute sample mean <br> $$ \\ \\bar{x} = {}? $$"
   ]
  },
  {
   "cell_type": "code",
   "execution_count": 8,
   "metadata": {},
   "outputs": [
    {
     "name": "stdout",
     "output_type": "stream",
     "text": [
      "4.1\n",
      "20\n"
     ]
    }
   ],
   "source": [
    "sample = [4,5,5,3,4,4,5,5,3,4,2,4,5,3,4,5,4,4,5,4]\n",
    "\n",
    "sample_mean = sum(sample)/len(sample)\n",
    "print(sample_mean)\n",
    "sample_size = len(sample)\n",
    "print(sample_size)\n",
    "population_mean = 4\n"
   ]
  },
  {
   "cell_type": "markdown",
   "metadata": {},
   "source": [
    "<B>Step-3:</B> Compute Test Statistic<p>\n",
    "population standard deviaton is unknown so we go for t-score:\n",
    "    $$ t = \\frac{\\bar{x}-\\mu}{\\frac{s}{\\sqrt{n}}} $$"
   ]
  },
  {
   "cell_type": "code",
   "execution_count": 9,
   "metadata": {},
   "outputs": [
    {
     "name": "stdout",
     "output_type": "stream",
     "text": [
      "SD is:  0.8522416262267903\n",
      "t-score is 0.5247497678328003\n"
     ]
    }
   ],
   "source": [
    "sample_std = sddd(sample)  \n",
    "print(\"SD is: \",sample_std)\n",
    "\n",
    "tscore =  t_score(sample_mean,sample_size,population_mean,sample_std)\n",
    "print(\"t-score is\",tscore)"
   ]
  },
  {
   "cell_type": "markdown",
   "metadata": {},
   "source": [
    "<B>Step-4</B>\n",
    "Decide $ \\alpha $ or significance level<br>\n",
    "Two Tail - Calculating the t-critical value<br>\n",
    "One tail test with 95% of confidence\n"
   ]
  },
  {
   "cell_type": "code",
   "execution_count": 10,
   "metadata": {},
   "outputs": [
    {
     "name": "stdout",
     "output_type": "stream",
     "text": [
      "T-critical :  1.729132811521367\n"
     ]
    }
   ],
   "source": [
    "alpha = 1 - 0.95\n",
    "\n",
    "t_critical = t.ppf(1-alpha, df = 19)\n",
    "\n",
    "print(\"T-critical : \",t_critical)\n"
   ]
  },
  {
   "cell_type": "markdown",
   "metadata": {},
   "source": [
    "<b>Step- 5.1:</b> Conclusion using t test\n",
    "\n",
    "<br>\n",
    "For one tailed test:"
   ]
  },
  {
   "cell_type": "code",
   "execution_count": 11,
   "metadata": {},
   "outputs": [
    {
     "name": "stdout",
     "output_type": "stream",
     "text": [
      "Fail to reject Null Hypothesis\n"
     ]
    }
   ],
   "source": [
    "if(np.abs(tscore) > t_critical):\n",
    "    print(\"Reject Null Hypothesis\")\n",
    "else:\n",
    "    print(\"Fail to reject Null Hypothesis\")"
   ]
  },
  {
   "cell_type": "markdown",
   "metadata": {},
   "source": [
    "<b>Step- 5.2:</b> Compute p-value and determing results:\n",
    "<br>\n",
    "For one tailed test:\n",
    "$$ \\text{p value} \\ = 2*(1.0-cdf(\\text{test statistic})) $$\n",
    "<br>\n",
    "\n",
    "$$ if \\ (\\text{p value} < \\alpha) \\ \\Rightarrow \\ \\text{Accept $H_{1}$} \\ or \\ \\ \\text{Reject $H_{0}$}    $$"
   ]
  },
  {
   "cell_type": "code",
   "execution_count": 12,
   "metadata": {},
   "outputs": [
    {
     "name": "stdout",
     "output_type": "stream",
     "text": [
      "P_value: 0.29987857769467896\n",
      "Failed to reject null hypothesis\n"
     ]
    }
   ],
   "source": [
    "# Conclusion by p test\n",
    "p_value = (1.0 - norm.cdf(np.abs(tscore)))\n",
    "print(\"P_value:\",p_value)\n",
    "if (p_value<alpha):\n",
    "    print(\"Reject null hypothesis\")\n",
    "else:\n",
    "    print(\"Failed to reject null hypothesis\")"
   ]
  },
  {
   "cell_type": "code",
   "execution_count": 13,
   "metadata": {},
   "outputs": [
    {
     "data": {
      "image/png": "[encoded data removed]",
      "text/plain": [
       "<Figure size 432x288 with 1 Axes>"
      ]
     },
     "metadata": {
      "needs_background": "light"
     },
     "output_type": "display_data"
    }
   ],
   "source": [
    "x_min = 3.5\n",
    "x_max = 4.5\n",
    "mean = population_mean\n",
    "std = sample_std / (sample_size**0.5)\n",
    "x = np.linspace(x_min, x_max, 100)\n",
    "y = norm.pdf(x, mean, std)\n",
    "plt.xlim(x_min, x_max)\n",
    "plt.plot(x, y)\n",
    "t_critical_right = population_mean + (t_critical * std)\n",
    "x1 = np.linspace(t_critical_right, x_max, 100)\n",
    "y1 = norm.pdf(x1, mean, std)\n",
    "plt.fill_between(x1, y1, color='orange')\n",
    "plt.scatter(sample_mean, 0)\n",
    "plt.annotate(\"x_bar\", (sample_mean, 0.1))\n",
    "plt.show()"
   ]
  },
  {
   "cell_type": "markdown",
   "metadata": {},
   "source": [
    "### Q.2 Answer - We fail to Reject Null Hypothsis\n",
    "We cannot say a average rating is not less than 4"
   ]
  },
  {
   "cell_type": "markdown",
   "metadata": {},
   "source": [
    "### <B>Q-3: TATA has developed a better fuel management system for the SUV segment. They claim that with this system, on average the SUV's mileage is at least 15 km/litre?</B>\n"
   ]
  },
  {
   "cell_type": "markdown",
   "metadata": {},
   "source": [
    "<B>Step - 1:</B>Formulate the Null Hypothesis and Alternate hypothesis<br>\n",
    "<ul>\n",
    "    <li>Alternate Hypothesis (Bold Claim): $$ H_1: \\ \\text{Average Mileage}: \\  \\mu \\geq  15 km/litre $$ \n",
    "    <li>Null Hypothesis (Status Quo): $$ H_0: \\ \\text{Average Mileage}:  \\ \\mu \\ < 15 km/litre $$\n",
    "        </ul>\n",
    "<B>Step - 2:</B>Defining the Sample and Population Parameters\n",
    "<br>\n",
    "<ul>\n",
    "    Collect a sample of size n = 20 <br>sample= [14.22,14.31,15.33,13.47,16.27,15.47,13.91,14.57,16.66,13.3,15.36,15.81,14.53,16.79,15.78,16.98,13.23,15.43,13.88,14,42]\n",
    "    <br>Compute sample mean <br> $$ \\ \\bar{x} = {}? $$"
   ]
  },
  {
   "cell_type": "code",
   "execution_count": 14,
   "metadata": {},
   "outputs": [
    {
     "name": "stdout",
     "output_type": "stream",
     "text": [
      "14.95\n",
      "20\n"
     ]
    }
   ],
   "source": [
    "sample = [14.22,16.33,13.47,16.27,14.47,15.91,14.57,15.66,13.3,15.36,13.81,15.53,15.79,14.81,15.98,13.23,16.43,13.88,14.42,15.56]\n",
    "\n",
    "sample_mean = sum(sample)/len(sample)\n",
    "print(sample_mean)\n",
    "sample_size = len(sample)\n",
    "print(sample_size)\n",
    "population_mean = 15\n"
   ]
  },
  {
   "cell_type": "markdown",
   "metadata": {},
   "source": [
    "<B>Step-3:</B> Compute Test Statistic<p>\n",
    "population standard deviaton is unknown so we go for t-score:\n",
    "    $$ t = \\frac{\\bar{x}-\\mu}{\\frac{s}{\\sqrt{n}}} $$"
   ]
  },
  {
   "cell_type": "code",
   "execution_count": 15,
   "metadata": {},
   "outputs": [
    {
     "name": "stdout",
     "output_type": "stream",
     "text": [
      "SD is:  1.0620238871334788\n",
      "t-score is -0.21054780448820404\n"
     ]
    }
   ],
   "source": [
    "sample_std = sddd(sample)\n",
    "print(\"SD is: \",sample_std)\n",
    "\n",
    "tscore =  t_score(sample_mean,sample_size,population_mean,sample_std)\n",
    "print(\"t-score is\",tscore)"
   ]
  },
  {
   "cell_type": "markdown",
   "metadata": {},
   "source": [
    "<B>Step-4</B>\n",
    "Decide $ \\alpha $ or significance level<br>\n",
    "Two Tail - Calculating the t-critical value<br>\n",
    "One tail test with 95% of confidence\n"
   ]
  },
  {
   "cell_type": "code",
   "execution_count": 16,
   "metadata": {},
   "outputs": [
    {
     "name": "stdout",
     "output_type": "stream",
     "text": [
      "T-critical :  1.729132811521367\n"
     ]
    }
   ],
   "source": [
    "alpha = 1 - 0.95\n",
    "\n",
    "t_critical = t.ppf(1-alpha, df = 19)\n",
    "\n",
    "print(\"T-critical : \",t_critical)\n"
   ]
  },
  {
   "cell_type": "markdown",
   "metadata": {},
   "source": [
    "<b>Step- 5.1:</b> Conclusion using t test\n",
    "\n",
    "<br>\n",
    "For one tailed test:"
   ]
  },
  {
   "cell_type": "code",
   "execution_count": 17,
   "metadata": {},
   "outputs": [
    {
     "name": "stdout",
     "output_type": "stream",
     "text": [
      "Fail to reject Null Hypothesis\n"
     ]
    }
   ],
   "source": [
    "if(np.abs(tscore) > t_critical):\n",
    "    print(\"Reject Null Hypothesis\")\n",
    "else:\n",
    "    print(\"Fail to reject Null Hypothesis\")"
   ]
  },
  {
   "cell_type": "markdown",
   "metadata": {},
   "source": [
    "<b>Step- 5.2:</b> Compute p-value and determing results:\n",
    "<br>\n",
    "For one tailed test:\n",
    "$$ \\text{p value} \\ = 2*(1.0-cdf(\\text{test statistic})) $$\n",
    "<br>\n",
    "\n",
    "$$ if \\ (\\text{p value} < \\alpha) \\ \\Rightarrow \\ \\text{Accept $H_{1}$} \\ or \\ \\ \\text{Reject $H_{0}$}    $$"
   ]
  },
  {
   "cell_type": "code",
   "execution_count": 18,
   "metadata": {},
   "outputs": [
    {
     "name": "stdout",
     "output_type": "stream",
     "text": [
      "P_value: 0.41662007257205624\n",
      "Failed to reject null hypothesis\n"
     ]
    }
   ],
   "source": [
    "# Conclusion by p test\n",
    "p_value = (1.0 - norm.cdf(np.abs(tscore)))\n",
    "print(\"P_value:\",p_value)\n",
    "if (p_value<alpha):\n",
    "    print(\"Reject null hypothesis\")\n",
    "else:\n",
    "    print(\"Failed to reject null hypothesis\")"
   ]
  },
  {
   "cell_type": "code",
   "execution_count": 19,
   "metadata": {},
   "outputs": [
    {
     "data": {
      "image/png": "[encoded data removed]",
      "text/plain": [
       "<Figure size 432x288 with 1 Axes>"
      ]
     },
     "metadata": {
      "needs_background": "light"
     },
     "output_type": "display_data"
    }
   ],
   "source": [
    "x_min = 13\n",
    "x_max = 17\n",
    "mean = population_mean\n",
    "std = sample_std / (sample_size**0.5)\n",
    "x = np.linspace(x_min, x_max, 100)\n",
    "y = norm.pdf(x, mean, std)\n",
    "plt.xlim(x_min, x_max)\n",
    "plt.plot(x, y)\n",
    "t_critical_right = population_mean + (t_critical * std)\n",
    "x1 = np.linspace(t_critical_right, x_max, 100)\n",
    "y1 = norm.pdf(x1, mean, std)\n",
    "plt.fill_between(x1, y1, color='orange')\n",
    "plt.scatter(sample_mean, 0)\n",
    "plt.annotate(\"x_bar\", (sample_mean, 0.1))\n",
    "plt.show()"
   ]
  },
  {
   "cell_type": "markdown",
   "metadata": {},
   "source": [
    "### Q.3 Answer - We fail to Reject Null Hypothsis\n",
    "We cannot say average mileage is not 15 km per litre"
   ]
  },
  {
   "cell_type": "markdown",
   "metadata": {},
   "source": [
    "### <B>Q.4. You have developed a new Machine Learning Application and claim that on average it takes less than 100 ms to predict for any future datapoint. How do you convince your client about this claim?</B>\n"
   ]
  },
  {
   "cell_type": "markdown",
   "metadata": {},
   "source": [
    "<B>Step - 1:</B>Formulate the Null Hypothesis and Alternate hypothesis<br>\n",
    "<ul>\n",
    "    <li>Alternate Hypothesis (Bold Claim): $$ H_1: \\ \\text{Average rating}: \\  \\mu < 100 $$ \n",
    "    <li>Null Hypothesis (Status Quo): $$ H_0: \\ \\text{Average rating}:  \\ \\mu \\ \\geq 100 $$\n",
    "        </ul>\n",
    "<B>Step - 2:</B>Defining the Sample and Population Parameters\n",
    "<br>\n",
    "<ul>\n",
    "    Collect a sample of size n = 25 <br>sample= [55,99,104,160,155,66,78,34,67,154,88,142,95,104,97,108]\n",
    "    <br>Compute sample mean <br> $$ \\ \\bar{x} = {}? $$"
   ]
  },
  {
   "cell_type": "code",
   "execution_count": 20,
   "metadata": {},
   "outputs": [
    {
     "name": "stdout",
     "output_type": "stream",
     "text": [
      "104.25\n",
      "20\n"
     ]
    }
   ],
   "source": [
    "sample = [75,99,104,160,155,76,78,34,67,154,88,142,95,104,97,108,132,97,126,94]\n",
    "sample_mean = sum(sample)/len(sample)\n",
    "print(sample_mean)\n",
    "sample_size = len(sample)\n",
    "print(sample_size)\n",
    "population_mean = 100\n"
   ]
  },
  {
   "cell_type": "markdown",
   "metadata": {},
   "source": [
    "<B>Step-3:</B> Compute Test Statistic<p>\n",
    "population standard deviaton is unknown so we go for t-score:\n",
    "    $$ t = \\frac{\\bar{x}-\\mu}{\\frac{s}{\\sqrt{n}}} $$"
   ]
  },
  {
   "cell_type": "code",
   "execution_count": 21,
   "metadata": {},
   "outputs": [
    {
     "name": "stdout",
     "output_type": "stream",
     "text": [
      "t-score is 0.5844538597292439\n"
     ]
    }
   ],
   "source": [
    "sample_std = sddd(sample)\n",
    "\n",
    "tscore =  t_score(sample_mean,sample_size,population_mean,sample_std)\n",
    "print(\"t-score is\",tscore)"
   ]
  },
  {
   "cell_type": "markdown",
   "metadata": {},
   "source": [
    "<B>Step-4</B>\n",
    "Decide $ \\alpha $ or significance level<br>\n",
    "Two Tail - Calculating the t-critical value<br>\n",
    "One tail test with 95% of confidence\n"
   ]
  },
  {
   "cell_type": "code",
   "execution_count": 22,
   "metadata": {},
   "outputs": [
    {
     "name": "stdout",
     "output_type": "stream",
     "text": [
      "T-critical :  1.7108820799094275\n"
     ]
    }
   ],
   "source": [
    "alpha = 1 - 0.95\n",
    "\n",
    "t_critical = t.ppf(1-alpha, df = 24)\n",
    "\n",
    "print(\"T-critical : \",t_critical)\n"
   ]
  },
  {
   "cell_type": "markdown",
   "metadata": {},
   "source": [
    "<b>Step- 5.1:</b> Conclusion using t test\n",
    "\n",
    "<br>\n",
    "For one tailed test:"
   ]
  },
  {
   "cell_type": "code",
   "execution_count": 23,
   "metadata": {},
   "outputs": [
    {
     "name": "stdout",
     "output_type": "stream",
     "text": [
      "Fail to reject Null Hypothesis\n"
     ]
    }
   ],
   "source": [
    "if(np.abs(tscore) > t_critical):\n",
    "    print(\"Reject Null Hypothesis\")\n",
    "else:\n",
    "    print(\"Fail to reject Null Hypothesis\")"
   ]
  },
  {
   "cell_type": "markdown",
   "metadata": {},
   "source": [
    "<b>Step- 5.2:</b> Compute p-value and determing results:\n",
    "<br>\n",
    "For one tailed test:\n",
    "$$ \\text{p value} \\ = 2*(1.0-cdf(\\text{test statistic})) $$\n",
    "<br>\n",
    "\n",
    "$$ if \\ (\\text{p value} < \\alpha) \\ \\Rightarrow \\ \\text{Accept $H_{1}$} \\ or \\ \\ \\text{Reject $H_{0}$}    $$"
   ]
  },
  {
   "cell_type": "code",
   "execution_count": 24,
   "metadata": {},
   "outputs": [
    {
     "name": "stdout",
     "output_type": "stream",
     "text": [
      "P_value: 0.27945749970362255\n",
      "Failed to reject null hypothesis\n"
     ]
    }
   ],
   "source": [
    "# Conclusion by p test\n",
    "p_value = (1.0 - norm.cdf(np.abs(tscore)))\n",
    "print(\"P_value:\",p_value)\n",
    "if (p_value<alpha):\n",
    "    print(\"Reject null hypothesis\")\n",
    "else:\n",
    "    print(\"Failed to reject null hypothesis\")"
   ]
  },
  {
   "cell_type": "code",
   "execution_count": 25,
   "metadata": {},
   "outputs": [
    {
     "data": {
      "image/png": "[encoded data removed]",
      "text/plain": [
       "<Figure size 432x288 with 1 Axes>"
      ]
     },
     "metadata": {
      "needs_background": "light"
     },
     "output_type": "display_data"
    }
   ],
   "source": [
    "# Ploting the sampling distribution with rejection regions\n",
    "\n",
    "# Defining the x minimum and x maximum\n",
    "x_min = 50\n",
    "x_max = 170\n",
    "\n",
    "\n",
    "# Defining the sampling distribution mean and sampling distribution std\n",
    "mean = population_mean\n",
    "std = sample_std / (sample_size**0.5)\n",
    "\n",
    "\n",
    "# Ploting the graph and setting the x limits\n",
    "x = np.linspace(x_min, x_max, 100)\n",
    "y = norm.pdf(x, mean, std)\n",
    "plt.xlim(x_min, x_max)\n",
    "plt.plot(x, y)\n",
    "\n",
    "\n",
    "# Computing the left critical value (Left tailed Test)\n",
    "t_critical_right = population_mean + (-t_critical * std)\n",
    "\n",
    "\n",
    "# Shading the left rejection region\n",
    "x1 = np.linspace(x_min,t_critical_right, 100)\n",
    "y1 = norm.pdf(x1, mean, std)\n",
    "plt.fill_between(x1, y1, color='orange')\n",
    "\n",
    "\n",
    "# Ploting the sample mean and concluding the results \n",
    "plt.scatter(sample_mean, 0)\n",
    "plt.annotate(\"x_bar\", (sample_mean, 0.1))\n",
    "plt.show()"
   ]
  },
  {
   "cell_type": "markdown",
   "metadata": {},
   "source": [
    "### Q.4 Answer - We fail to Reject Null Hypothsis\n",
    "We cannot say average time taken is not grater than or equal than 100ms"
   ]
  },
  {
   "cell_type": "code",
   "execution_count": null,
   "metadata": {},
   "outputs": [],
   "source": []
  }
 ],
 "metadata": {
  "kernelspec": {
   "display_name": "Python 3",
   "language": "python",
   "name": "python3"
  },
  "language_info": {
   "codemirror_mode": {
    "name": "ipython",
    "version": 3
   },
   "file_extension": ".py",
   "mimetype": "text/x-python",
   "name": "python",
   "nbconvert_exporter": "python",
   "pygments_lexer": "ipython3",
   "version": "3.8.3"
  }
 },
 "nbformat": 4,
 "nbformat_minor": 4
}
