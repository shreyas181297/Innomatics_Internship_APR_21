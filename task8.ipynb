{
 "cells": [
  {
   "cell_type": "markdown",
   "metadata": {},
   "source": [
    "# Binomial Distribution I"
   ]
  },
  {
   "cell_type": "code",
   "execution_count": 1,
   "metadata": {},
   "outputs": [
    {
     "name": "stdout",
     "output_type": "stream",
     "text": [
      "1.09 1\n",
      "0.696\n"
     ]
    }
   ],
   "source": [
    "\n",
    "# Enter your code here. Read input from STDIN. Print output to STDOUT\n",
    "import math\n",
    "def nCr(n,r):\n",
    "    return (math.factorial(n)/(math.factorial(r) * math.factorial(n-r)))\n",
    "\n",
    "x,y = map(float, input().split())\n",
    "p = x / ( x + y )\n",
    "q = y / ( x + y )\n",
    "t=0\n",
    "for i in range(3,7):\n",
    "    t = t+ nCr(6,i)*(p**i)*(q**(6-i))\n",
    "print(round(t,3))"
   ]
  },
  {
   "cell_type": "markdown",
   "metadata": {},
   "source": [
    "# Binomial Distribution II"
   ]
  },
  {
   "cell_type": "code",
   "execution_count": 3,
   "metadata": {},
   "outputs": [
    {
     "name": "stdout",
     "output_type": "stream",
     "text": [
      "12 10\n",
      "0.891\n",
      "0.342\n"
     ]
    }
   ],
   "source": [
    "import math\n",
    "def nCr(n,r):\n",
    "    return (math.factorial(n)/(math.factorial(r) * math.factorial(n-r)))\n",
    "p , N = map(float, input().split())\n",
    "p = p *.01\n",
    "q = 1 - p\n",
    "\n",
    "t=0\n",
    "for i in range(0,3):\n",
    "    t = t+ nCr(10,i)*(p**i)*(q**(10-i))\n",
    "print(round(t,3))\n",
    "\n",
    "t=0\n",
    "for i in range(2,10):\n",
    "    t = t+ nCr(10,i)*(p**i)*(q**(10-i))\n",
    "print(round(t,3))\n"
   ]
  },
  {
   "cell_type": "markdown",
   "metadata": {},
   "source": [
    "# Normal Distribution I"
   ]
  },
  {
   "cell_type": "code",
   "execution_count": 5,
   "metadata": {},
   "outputs": [
    {
     "name": "stdout",
     "output_type": "stream",
     "text": [
      "20 2\n",
      "19.5\n",
      "20 22\n",
      "0.401\n",
      "0.34099999999999997\n"
     ]
    }
   ],
   "source": [
    "# Enter your code here. Read input from STDIN. Print output to STDOUT\n",
    "import math\n",
    "mean,sd=map(float,input().split())\n",
    "x = float(input())\n",
    "t1,t2=map(float,input().split())\n",
    "\n",
    "def ND(x,mean,sd):\n",
    "    return round(0.5 * (1 + math.erf((x - mean) / (sd * (2 ** 0.5)))),3)\n",
    "\n",
    "ans1 = ND(x,mean,sd)\n",
    "ans2 = ND(t2,mean,sd)-ND(t1,mean,sd)\n",
    "print(ans1)\n",
    "print(ans2)"
   ]
  },
  {
   "cell_type": "markdown",
   "metadata": {},
   "source": [
    "# Normal Distribution II"
   ]
  },
  {
   "cell_type": "code",
   "execution_count": 6,
   "metadata": {},
   "outputs": [
    {
     "name": "stdout",
     "output_type": "stream",
     "text": [
      "70 10\n",
      "80\n",
      "60\n",
      "15.87\n",
      "84.13\n",
      "15.87\n"
     ]
    }
   ],
   "source": [
    "# Enter your code here. Read input from STDIN. Print output to STDOUT\n",
    "import math\n",
    "mean,sd=map(float,input().split())\n",
    "x = float(input())\n",
    "t = float(input())\n",
    "\n",
    "def cdf(x, mean, sd):\n",
    "    return 1/2*(1+math.erf((x-mean) / sd / 2**(1/2)))\n",
    "\n",
    "print(round((1 - cdf(x, mean, sd))*100, 2))\n",
    "print(round((1 - cdf(t, mean, sd))*100, 2))\n",
    "print(round(cdf(t, mean, sd)*100, 2))\n"
   ]
  },
  {
   "cell_type": "markdown",
   "metadata": {},
   "source": [
    "# CLT I"
   ]
  },
  {
   "cell_type": "code",
   "execution_count": 7,
   "metadata": {},
   "outputs": [
    {
     "name": "stdout",
     "output_type": "stream",
     "text": [
      "9800\n",
      "49\n",
      "205\n",
      "15\n",
      "0.0098\n"
     ]
    }
   ],
   "source": [
    "import math\n",
    "\n",
    "max_wt = float(input())\n",
    "boxes = float(input())\n",
    "\n",
    "mean = float(input())\n",
    "sd = float(input())\n",
    "\n",
    "def cdf(x, mean, sd):\n",
    "    return 1/2*(1+math.erf((x-mean) / sd / 2**(1/2)))\n",
    "\n",
    "\n",
    "mean_s = boxes * mean\n",
    "std_s = sd * boxes**(1/2)\n",
    "\n",
    "\n",
    "print(round(cdf(max_wt, mean_s, std_s), 4))"
   ]
  },
  {
   "cell_type": "markdown",
   "metadata": {},
   "source": [
    "# CLT II"
   ]
  },
  {
   "cell_type": "code",
   "execution_count": 8,
   "metadata": {},
   "outputs": [
    {
     "name": "stdout",
     "output_type": "stream",
     "text": [
      "250\n",
      "100\n",
      "2.4\n",
      "2.0\n",
      "0.6915\n"
     ]
    }
   ],
   "source": [
    "import math\n",
    "\n",
    "tickets = float(input())\n",
    "stud = float(input())\n",
    "\n",
    "mean = float(input())\n",
    "sd = float(input())\n",
    "\n",
    "def cdf(x, mean, std):\n",
    "    return 1/2*(1+math.erf((x-mean) / std / 2**(1/2)))\n",
    "\n",
    "mean_s = stud * mean\n",
    "std_s = sd * stud**(1/2)\n",
    "\n",
    "print(round(cdf(tickets, mean_s, std_s), 4))"
   ]
  },
  {
   "cell_type": "markdown",
   "metadata": {},
   "source": [
    "# CLT III"
   ]
  },
  {
   "cell_type": "code",
   "execution_count": 10,
   "metadata": {},
   "outputs": [
    {
     "name": "stdout",
     "output_type": "stream",
     "text": [
      "484.32\n",
      "515.68\n"
     ]
    }
   ],
   "source": [
    "mean = 500\n",
    "sd = 80\n",
    "size = 100\n",
    "z = 1.96\n",
    "percent = 0.96\n",
    "sd = sd / size**(1/2)\n",
    "print(round(mean - sd * z, 2))\n",
    "print(round(mean + sd * z, 2))"
   ]
  },
  {
   "cell_type": "markdown",
   "metadata": {},
   "source": [
    "# PCC I"
   ]
  },
  {
   "cell_type": "code",
   "execution_count": 11,
   "metadata": {},
   "outputs": [
    {
     "name": "stdout",
     "output_type": "stream",
     "text": [
      "10\n",
      "10 9.8 8 7.8 7.7 7 6 5 4 2 \n",
      "200 44 32 24 22 17 15 12 8 4\n",
      "0.612\n"
     ]
    }
   ],
   "source": [
    "import statistics as st\n",
    "\n",
    "n=int(input())\n",
    "a=tuple(map(float,input().split()))\n",
    "b=tuple(map(float,input().split()))\n",
    "\n",
    "NUM=sum([a*b for a,b in zip([i-st.mean(a) for i in a],[i-st.mean(b) for i in b])])\n",
    "DEN=(n*st.pstdev(a)*st.pstdev(b))   \n",
    "cov_coeff = NUM/DEN\n",
    "print(round(cov_coeff,3))"
   ]
  },
  {
   "cell_type": "markdown",
   "metadata": {},
   "source": [
    "# Linear Regression"
   ]
  },
  {
   "cell_type": "code",
   "execution_count": 12,
   "metadata": {},
   "outputs": [
    {
     "name": "stdout",
     "output_type": "stream",
     "text": [
      "78.288\n"
     ]
    }
   ],
   "source": [
    "n = 5\n",
    "x = [95,85,80,70,60]\n",
    "y = [85,95,70,65,70]\n",
    "\n",
    "x_sum = sum(x)\n",
    "x_sum_sqr = x_sum**2\n",
    "x_sqr_sum = sum([x_i**2 for x_i in x])\n",
    "y_sum = sum(y)\n",
    "sumof_prodXY = 0\n",
    "for x_i,y_i in zip(x,y):\n",
    "    sumof_prodXY += (x_i*y_i)\n",
    "    \n",
    "    \n",
    "b = (n*sumof_prodXY - x_sum*y_sum) / (n*x_sqr_sum - x_sum_sqr)\n",
    "y_mean = y_sum/n\n",
    "x_mean = x_sum/n\n",
    "a = y_mean - b*x_mean\n",
    "\n",
    "print(\"%.3f\"%(a+b*80))"
   ]
  },
  {
   "cell_type": "markdown",
   "metadata": {},
   "source": [
    "# Multiple Linear Regression"
   ]
  },
  {
   "cell_type": "code",
   "execution_count": 1,
   "metadata": {},
   "outputs": [
    {
     "name": "stdout",
     "output_type": "stream",
     "text": [
      "2 7\n",
      "0.18 0.89 109.85\n",
      "1.0 0.26 155.72\n",
      "0.92 0.11 137.66\n",
      "0.07 0.37 76.17\n",
      "0.85 0.16 139.75\n",
      "0.99 0.41 162.6\n",
      "0.87 0.47 151.77\n",
      "4\n",
      "0.49 0.18\n",
      "0.57 0.83\n",
      "0.56 0.64\n",
      "0.76 0.18\n",
      "105.21\n",
      "142.67\n",
      "132.94\n",
      "129.7\n"
     ]
    }
   ],
   "source": [
    "import numpy as np\n",
    "\n",
    "m, n = map(int, input().split()) \n",
    "input_train = [list(map(float, input().split())) for _ in range(n)] \n",
    "X = np.empty((n, m+2)) \n",
    "X[:, 0] = 1 \n",
    "X[:, 1:] = input_train \n",
    "Y = X[:, -1] \n",
    "X = X[:, :-1]\n",
    "\n",
    "\n",
    "X_transpose  = X.T\n",
    "T = X_transpose.dot(X)\n",
    "\n",
    "X_inverse = np.linalg.inv(T)\n",
    "\n",
    "X_answer = X_inverse.dot(X_transpose)\n",
    "\n",
    "B = X_answer.dot(Y)\n",
    "t = int(input()) \n",
    "X_new = np.empty((t, m+1)) \n",
    "X_new[:, 0] = 1\n",
    "\n",
    "input_test = [list(map(float, input().split())) for _ in range(t)]\n",
    "\n",
    "X_new[:, 1:] = input_test\n",
    "Ans = np.dot(X_new, B)\n",
    "print('\\n'.join(map(str, np.round(Ans, 2))))"
   ]
  }
 ],
 "metadata": {
  "kernelspec": {
   "display_name": "Python 3",
   "language": "python",
   "name": "python3"
  },
  "language_info": {
   "codemirror_mode": {
    "name": "ipython",
    "version": 3
   },
   "file_extension": ".py",
   "mimetype": "text/x-python",
   "name": "python",
   "nbconvert_exporter": "python",
   "pygments_lexer": "ipython3",
   "version": "3.8.3"
  }
 },
 "nbformat": 4,
 "nbformat_minor": 4
}
