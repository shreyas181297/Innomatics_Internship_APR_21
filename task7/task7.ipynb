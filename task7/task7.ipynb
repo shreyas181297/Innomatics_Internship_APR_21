{
 "cells": [
  {
   "cell_type": "markdown",
   "metadata": {
    "id": "CphAeyitw20G"
   },
   "source": [
    "# Descriptive Statistics and Python Implementation😧"
   ]
  },
  {
   "cell_type": "markdown",
   "metadata": {
    "id": "XA7RyLRgw1f-"
   },
   "source": [
    "<b>1.Mean($\\mu$):</b> <p>\n",
    " Mean is defined as the ratio of the sum of all the observations in the data to the total number of observations. This is also known as Average. Thus mean is a number around which the entire data set is spread."
   ]
  },
  {
   "cell_type": "markdown",
   "metadata": {
    "id": "nzConH9i7nnK"
   },
   "source": [
    "$$ Mean(\\mu):  \\frac{\\Sigma(x)}{N} $$<p>\n",
    "here $\\Sigma(x)$ is sum of all observation in dataset\n",
    "and N is total number of observations"
   ]
  },
  {
   "cell_type": "markdown",
   "metadata": {
    "id": "O-husrAH6Ruh"
   },
   "source": [
    "<img src=\"Mean.jpg\">"
   ]
  },
  {
   "cell_type": "code",
   "execution_count": 1,
   "metadata": {
    "id": "FeWmdE4sL_rq"
   },
   "outputs": [
    {
     "data": {
      "text/html": [
       "<div>\n",
       "<style scoped>\n",
       "    .dataframe tbody tr th:only-of-type {\n",
       "        vertical-align: middle;\n",
       "    }\n",
       "\n",
       "    .dataframe tbody tr th {\n",
       "        vertical-align: top;\n",
       "    }\n",
       "\n",
       "    .dataframe thead th {\n",
       "        text-align: right;\n",
       "    }\n",
       "</style>\n",
       "<table border=\"1\" class=\"dataframe\">\n",
       "  <thead>\n",
       "    <tr style=\"text-align: right;\">\n",
       "      <th></th>\n",
       "      <th>Mthly_HH_Income</th>\n",
       "      <th>Mthly_HH_Expense</th>\n",
       "      <th>No_of_Fly_Members</th>\n",
       "      <th>Emi_or_Rent_Amt</th>\n",
       "      <th>Annual_HH_Income</th>\n",
       "      <th>Highest_Qualified_Member</th>\n",
       "      <th>No_of_Earning_Members</th>\n",
       "    </tr>\n",
       "  </thead>\n",
       "  <tbody>\n",
       "    <tr>\n",
       "      <th>0</th>\n",
       "      <td>5000</td>\n",
       "      <td>8000</td>\n",
       "      <td>3</td>\n",
       "      <td>2000</td>\n",
       "      <td>64200</td>\n",
       "      <td>Under-Graduate</td>\n",
       "      <td>1</td>\n",
       "    </tr>\n",
       "    <tr>\n",
       "      <th>1</th>\n",
       "      <td>6000</td>\n",
       "      <td>7000</td>\n",
       "      <td>2</td>\n",
       "      <td>3000</td>\n",
       "      <td>79920</td>\n",
       "      <td>Illiterate</td>\n",
       "      <td>1</td>\n",
       "    </tr>\n",
       "    <tr>\n",
       "      <th>2</th>\n",
       "      <td>10000</td>\n",
       "      <td>4500</td>\n",
       "      <td>2</td>\n",
       "      <td>0</td>\n",
       "      <td>112800</td>\n",
       "      <td>Under-Graduate</td>\n",
       "      <td>1</td>\n",
       "    </tr>\n",
       "    <tr>\n",
       "      <th>3</th>\n",
       "      <td>10000</td>\n",
       "      <td>2000</td>\n",
       "      <td>1</td>\n",
       "      <td>0</td>\n",
       "      <td>97200</td>\n",
       "      <td>Illiterate</td>\n",
       "      <td>1</td>\n",
       "    </tr>\n",
       "    <tr>\n",
       "      <th>4</th>\n",
       "      <td>12500</td>\n",
       "      <td>12000</td>\n",
       "      <td>2</td>\n",
       "      <td>3000</td>\n",
       "      <td>147000</td>\n",
       "      <td>Graduate</td>\n",
       "      <td>1</td>\n",
       "    </tr>\n",
       "  </tbody>\n",
       "</table>\n",
       "</div>"
      ],
      "text/plain": [
       "   Mthly_HH_Income  Mthly_HH_Expense  No_of_Fly_Members  Emi_or_Rent_Amt  \\\n",
       "0             5000              8000                  3             2000   \n",
       "1             6000              7000                  2             3000   \n",
       "2            10000              4500                  2                0   \n",
       "3            10000              2000                  1                0   \n",
       "4            12500             12000                  2             3000   \n",
       "\n",
       "   Annual_HH_Income Highest_Qualified_Member  No_of_Earning_Members  \n",
       "0             64200           Under-Graduate                      1  \n",
       "1             79920               Illiterate                      1  \n",
       "2            112800           Under-Graduate                      1  \n",
       "3             97200               Illiterate                      1  \n",
       "4            147000                 Graduate                      1  "
      ]
     },
     "execution_count": 1,
     "metadata": {},
     "output_type": "execute_result"
    }
   ],
   "source": [
    "import numpy as np\n",
    "import pandas as pd\n",
    "df = pd.read_csv(\"data.csv\")\n",
    "df.head()"
   ]
  },
  {
   "cell_type": "code",
   "execution_count": 2,
   "metadata": {
    "colab": {
     "base_uri": "https://localhost:8080/"
    },
    "id": "nFvhe9JAJ1Rp",
    "outputId": "5ffa1139-d9b5-4fb2-e18e-0e08e4ba856b"
   },
   "outputs": [
    {
     "name": "stdout",
     "output_type": "stream",
     "text": [
      "Mean of Mothly Fly Members is without library Function is :  4.06\n"
     ]
    }
   ],
   "source": [
    "#without Library Function Mean Calculation\n",
    "sum = 0\n",
    "for i in range(len(df['No_of_Fly_Members'])):\n",
    "   sum = sum + df['No_of_Fly_Members'][i]\n",
    "n = len(df['No_of_Fly_Members'])\n",
    "mean = sum/n\n",
    "print(\"Mean of Mothly Fly Members is without library Function is : \",mean)\n"
   ]
  },
  {
   "cell_type": "code",
   "execution_count": 3,
   "metadata": {
    "colab": {
     "base_uri": "https://localhost:8080/"
    },
    "id": "nFvhe9JAJ1Rp",
    "outputId": "5ffa1139-d9b5-4fb2-e18e-0e08e4ba856b"
   },
   "outputs": [
    {
     "name": "stdout",
     "output_type": "stream",
     "text": [
      "Mean of Fly members by using library function is:  4.06\n"
     ]
    }
   ],
   "source": [
    "#Using Library Function Mean calculation\n",
    "x = df['No_of_Fly_Members'].mean()\n",
    "print(\"Mean of Fly members by using library function is: \", x)"
   ]
  },
  {
   "cell_type": "markdown",
   "metadata": {
    "id": "xMWHdqZBDk7L"
   },
   "source": [
    "<b>2.Median(M):</b> <p>\n",
    "The middle number; found by ordering all data points and picking out the one in the middle (or if there are two middle numbers, taking the mean of those two numbers)"
   ]
  },
  {
   "cell_type": "markdown",
   "metadata": {
    "id": "m-QQ2IvYGc6u"
   },
   "source": [
    "$$ Median=  (\\frac{n+1}{2})^{t h}\\,\\,\\,if\\,\\,\\,\\,n\\,\\,\\,\\,is\\,\\,\\,odd $$\n",
    "$$ Median= \\frac{(\\frac{n}{2})^{t h}+(\\frac{n+1}{2})^{t h}}{2}\\,\\,if\\,\\,\\,n\\,\\,\\,\\,is\\,\\,\\,even $$\n",
    "\n",
    "\n"
   ]
  },
  {
   "cell_type": "markdown",
   "metadata": {
    "id": "h_sh94dGF6ZV"
   },
   "source": [
    "<img src=\"median.png\">"
   ]
  },
  {
   "cell_type": "code",
   "execution_count": 4,
   "metadata": {
    "colab": {
     "base_uri": "https://localhost:8080/"
    },
    "id": "g5F-VWwrcd2H",
    "outputId": "a7ecfe7c-f8e4-4a93-893e-896362de0be5"
   },
   "outputs": [
    {
     "name": "stdout",
     "output_type": "stream",
     "text": [
      "Median of Monethly HH income without using Library function is: 35000.0\n"
     ]
    }
   ],
   "source": [
    "#without Library Function Median Calculation\n",
    "n = len(df['Mthly_HH_Income'])\n",
    "df['Mthly_HH_Income'].sort_values()\n",
    "\n",
    "if n % 2 == 0:\n",
    "   a = df['Mthly_HH_Income'][n/2]\n",
    "   b = df['Mthly_HH_Income'][(n/2)-1]\n",
    "   median = (a + b)/2\n",
    "else:\n",
    "   median = df['Mthly_HH_Income'][n/2]\n",
    "print(\"Median of Monethly HH income without using Library function is: \" + str(median))\n"
   ]
  },
  {
   "cell_type": "code",
   "execution_count": 5,
   "metadata": {
    "colab": {
     "base_uri": "https://localhost:8080/"
    },
    "id": "g5F-VWwrcd2H",
    "outputId": "a7ecfe7c-f8e4-4a93-893e-896362de0be5"
   },
   "outputs": [
    {
     "name": "stdout",
     "output_type": "stream",
     "text": [
      "Median of Monethly HH income by using library function is:  35000.0\n"
     ]
    }
   ],
   "source": [
    "#Using Library Function Median Calculation\n",
    "print(\"Median of Monethly HH income by using library function is: \", df['Mthly_HH_Income'].median())\n"
   ]
  },
  {
   "cell_type": "markdown",
   "metadata": {
    "id": "cItYxA7sQfT0"
   },
   "source": [
    "<b>3.Mode(Mo):</b> <p>\n",
    "\n",
    "The mode is the value that appears most frequently in a data set. Can also be considered as most popular element in dataset. A set of data may have one mode, more than one mode, or no mode at all"
   ]
  },
  {
   "cell_type": "markdown",
   "metadata": {
    "id": "8bNFh3o-bojO"
   },
   "source": [
    "<img src=\"mode.gif\">"
   ]
  },
  {
   "cell_type": "code",
   "execution_count": 6,
   "metadata": {
    "colab": {
     "base_uri": "https://localhost:8080/"
    },
    "id": "moHjLkNEg3bQ",
    "outputId": "c52ee361-68a6-47ba-ce04-cb757ef1221e"
   },
   "outputs": [
    {
     "name": "stdout",
     "output_type": "stream",
     "text": [
      "Mthly_HH_Income Mode is 45000\n",
      "Mthly_HH_Expense Mode is 25000\n",
      "No_of_Fly_Members Mode is 4\n",
      "Emi_or_Rent_Amt Mode is 0\n",
      "Annual_HH_Income Mode is 590400\n",
      "Highest_Qualified_Member Mode is Graduate\n",
      "No_of_Earning_Members Mode is 1\n"
     ]
    }
   ],
   "source": [
    "#without Library Function Mode Calculation\n",
    "for col in df.columns:\n",
    "   n =0\n",
    "   l1 = []\n",
    "   l = list(df[col].unique())\n",
    "   for i in l:\n",
    "       a = list(df[col]).count(i)\n",
    "       if a not in l1:\n",
    "           l1.append(a)\n",
    "       mode_value = sorted(l1,reverse = True)[0]\n",
    "   for i in l:\n",
    "       a = list(df[col]).count(i)\n",
    "       if(a == mode_value):\n",
    "           print(col + \" Mode is\", i)\n",
    "           break"
   ]
  },
  {
   "cell_type": "code",
   "execution_count": 7,
   "metadata": {
    "colab": {
     "base_uri": "https://localhost:8080/"
    },
    "id": "moHjLkNEg3bQ",
    "outputId": "c52ee361-68a6-47ba-ce04-cb757ef1221e"
   },
   "outputs": [
    {
     "name": "stdout",
     "output_type": "stream",
     "text": [
      "Mode of Mthly_HH_Income  by using library function is:  45000\n",
      "Mode of Mthly_HH_Expense  by using library function is:  25000\n",
      "Mode of No_of_Fly_Members  by using library function is:  4\n",
      "Mode of Annual_HH_Income  by using library function is:  590400\n",
      "Mode of No_of_Earning_Members  by using library function is:  1\n"
     ]
    }
   ],
   "source": [
    "#Using Library Function Mode Calculation\n",
    "df1=df.loc[:, df.columns != 'Highest_Qualified_Member']\n",
    "for col in df1.columns:\n",
    "    if(df1[col].mode().item()):\n",
    "        print(\"Mode of\",col ,\" by using library function is: \", int(df1[col].mode()))\n"
   ]
  },
  {
   "cell_type": "markdown",
   "metadata": {
    "id": "_caACwYUcEii"
   },
   "source": [
    "<b>4.Variance($\\sigma^{2}$):</b> <p>\n",
    "\n",
    "The variance is a measure of variability. It is calculated by taking the average of squared deviations from the mean.\n",
    "\n",
    "Variance tells you the degree of spread in your data set. The more spread the data, the larger the variance is in relation to the mean."
   ]
  },
  {
   "cell_type": "markdown",
   "metadata": {
    "id": "sPewfwSohZnI"
   },
   "source": [
    "$$ \\sigma^2 = \\frac{\\Sigma(x_i-\\mu)^2}{n-1} $$"
   ]
  },
  {
   "cell_type": "markdown",
   "metadata": {
    "id": "is_36wLbIN38"
   },
   "source": [
    "<img src=\"variance.jpg\">"
   ]
  },
  {
   "cell_type": "code",
   "execution_count": 8,
   "metadata": {
    "colab": {
     "base_uri": "https://localhost:8080/"
    },
    "id": "OQ9cNPvGfXW4",
    "outputId": "042d6607-d809-4906-f934-fd4c8d61cac8"
   },
   "outputs": [
    {
     "name": "stdout",
     "output_type": "stream",
     "text": [
      "Variance of Household expense without using library function is:  146173342.85714287\n"
     ]
    }
   ],
   "source": [
    "#without Library Function Variance Calculation\n",
    "sum = 0\n",
    "v = 0\n",
    "for i in range(len(df['Mthly_HH_Expense'])):\n",
    "   sum =sum + df['Mthly_HH_Expense'][i]\n",
    "n =len(df['Mthly_HH_Expense'])\n",
    "mean = sum/n\n",
    "for i in range(len(df['Mthly_HH_Expense'])):\n",
    "   v = v + (df['Mthly_HH_Expense'][i] - mean)**2\n",
    "variance = v / (n-1)\n",
    "print(\"Variance of Household expense without using library function is: \", variance)\n"
   ]
  },
  {
   "cell_type": "code",
   "execution_count": 9,
   "metadata": {
    "colab": {
     "base_uri": "https://localhost:8080/"
    },
    "id": "cxYV_6dxgodO",
    "outputId": "5e771c91-1d48-48cc-f101-465a251e1ef3"
   },
   "outputs": [
    {
     "name": "stdout",
     "output_type": "stream",
     "text": [
      "Variance of Household expense by using library function is:  146173342.85714287\n"
     ]
    }
   ],
   "source": [
    "#Using Library Function Variance Calculation\n",
    "\n",
    "var= df[\"Mthly_HH_Expense\"].var()\n",
    "print(\"Variance of Household expense by using library function is: \", var)\n"
   ]
  },
  {
   "cell_type": "markdown",
   "metadata": {
    "id": "bHiagQ4hIb3t"
   },
   "source": [
    "<b>5.Standard Deviation($\\sigma$):</b> <p>\n",
    "\n",
    "The standard deviation is a statistic that measures the dispersion of a dataset relative to its mean and is calculated as the square root of the variance.\n",
    "\n",
    "The standard deviation is calculated as the square root of variance by determining each data point's deviation relative to the mean. If the data points are further from the mean, there is a higher deviation within the data set; thus, the more spread out the data, the higher the standard deviation."
   ]
  },
  {
   "cell_type": "markdown",
   "metadata": {
    "id": "jk4AOR4_J7y-"
   },
   "source": [
    "Standard Deviation: $$ \\sigma =  \\sqrt\\frac{\\Sigma(x_i-\\mu)^2}{n-1} $$   "
   ]
  },
  {
   "cell_type": "markdown",
   "metadata": {
    "id": "xfCyp0OKL_jy"
   },
   "source": [
    "<img src=\"sd.png\">"
   ]
  },
  {
   "cell_type": "code",
   "execution_count": 10,
   "metadata": {
    "colab": {
     "base_uri": "https://localhost:8080/"
    },
    "id": "4KUbvZumN9u1",
    "outputId": "f97a3794-2746-4c70-eb76-baf9501f7943"
   },
   "outputs": [
    {
     "name": "stdout",
     "output_type": "stream",
     "text": [
      "standard Deviation for Monethly HH Expense without using library function is 12090.216824240286\n"
     ]
    }
   ],
   "source": [
    "#without Library Function Variance Calculation\n",
    "import math\n",
    "sum = 0\n",
    "v = 0\n",
    "for i in range(len(df['Mthly_HH_Expense'])):\n",
    "   sum =sum + df['Mthly_HH_Expense'][i]\n",
    "n =len(df['Mthly_HH_Expense'])\n",
    "mean = sum/n\n",
    "for i in range(len(df['Mthly_HH_Expense'])):\n",
    "   v = v + (df['Mthly_HH_Expense'][i] - mean)**2\n",
    "variance = v / (n-1)\n",
    "std  = math.sqrt(variance)  # standard deviation\n",
    "print(\"standard Deviation for Monethly HH Expense without using library function is\",std)"
   ]
  },
  {
   "cell_type": "code",
   "execution_count": 11,
   "metadata": {
    "colab": {
     "base_uri": "https://localhost:8080/"
    },
    "id": "cxYV_6dxgodO",
    "outputId": "5e771c91-1d48-48cc-f101-465a251e1ef3"
   },
   "outputs": [
    {
     "name": "stdout",
     "output_type": "stream",
     "text": [
      "standard deviation of Household Expense by using library function is:  12090.216824240286\n"
     ]
    }
   ],
   "source": [
    "#Using Library Function Standard Deviation Calculation\n",
    "\n",
    "var= df[\"Mthly_HH_Expense\"].var()\n",
    "sd = math.sqrt(var)\n",
    "\n",
    "print(\"standard deviation of Household Expense by using library function is: \", sd)\n"
   ]
  },
  {
   "cell_type": "markdown",
   "metadata": {
    "id": "XyxKjC5CPOst"
   },
   "source": [
    "<b>6.Correlation(r):</b> <p>\n",
    "\n",
    "\n",
    "Correlation is a statistic that measures the degree to which two variables move in relation to each other."
   ]
  },
  {
   "cell_type": "markdown",
   "metadata": {
    "id": "rMo5wT0qSLmt"
   },
   "source": [
    "$$ r_x\\,_y = \\frac{n{\\Sigma x_i\\,y_i}-{\\Sigma x_i}{\\Sigma y_i}}{ {\\sqrt {n\\Sigma x_i^2-(\\Sigma x_i)^2}} {\\sqrt {n\\Sigma y_i^2-(\\Sigma y_i)^2}}   } $$"
   ]
  },
  {
   "cell_type": "markdown",
   "metadata": {
    "id": "pJctc2PAc1Tt"
   },
   "source": [
    "<img src=\"correlation.jpg\">"
   ]
  },
  {
   "cell_type": "code",
   "execution_count": 12,
   "metadata": {
    "colab": {
     "base_uri": "https://localhost:8080/"
    },
    "id": "Zv_cVDwWfYev",
    "outputId": "0ef721f4-b11a-4c93-d377-fc3c5e86dab6"
   },
   "outputs": [
    {
     "name": "stdout",
     "output_type": "stream",
     "text": [
      "Correaltion among Monethly HH income with Monethly HH expense without using Library Function is  0.6492152549316461\n"
     ]
    }
   ],
   "source": [
    "def sums(t):\n",
    "    p=0\n",
    "    for i in range(len(t)):\n",
    "        p = p + int(t[i])\n",
    "    return p\n",
    "\n",
    "X = df['Mthly_HH_Income']\n",
    "Y = df['Mthly_HH_Expense']\n",
    "Xm = sums(X)/len(X)\n",
    "Ym = sums(Y)/len(Y)\n",
    "x = [t-Xm for t in X]\n",
    "y = [t-Ym for t in Y]\n",
    "xy =[t1*t2 for t1,t2 in list(zip(x,y))]\n",
    "sum_xy = sums(xy)\n",
    "\n",
    "r = sum_xy/math.sqrt(sums([t*t for t in x])*sums([t*t for t in y]))\n",
    "\n",
    "print(\"Correaltion among Monethly HH income with Monethly HH expense without using Library Function is \",r)\n"
   ]
  },
  {
   "cell_type": "code",
   "execution_count": 13,
   "metadata": {
    "colab": {
     "base_uri": "https://localhost:8080/"
    },
    "id": "Zv_cVDwWfYev",
    "outputId": "0ef721f4-b11a-4c93-d377-fc3c5e86dab6"
   },
   "outputs": [
    {
     "name": "stdout",
     "output_type": "stream",
     "text": [
      "Correaltion using Library Function is \n"
     ]
    },
    {
     "data": {
      "text/html": [
       "<div>\n",
       "<style scoped>\n",
       "    .dataframe tbody tr th:only-of-type {\n",
       "        vertical-align: middle;\n",
       "    }\n",
       "\n",
       "    .dataframe tbody tr th {\n",
       "        vertical-align: top;\n",
       "    }\n",
       "\n",
       "    .dataframe thead th {\n",
       "        text-align: right;\n",
       "    }\n",
       "</style>\n",
       "<table border=\"1\" class=\"dataframe\">\n",
       "  <thead>\n",
       "    <tr style=\"text-align: right;\">\n",
       "      <th></th>\n",
       "      <th>Mthly_HH_Income</th>\n",
       "      <th>Mthly_HH_Expense</th>\n",
       "      <th>No_of_Fly_Members</th>\n",
       "      <th>Emi_or_Rent_Amt</th>\n",
       "      <th>Annual_HH_Income</th>\n",
       "      <th>No_of_Earning_Members</th>\n",
       "    </tr>\n",
       "  </thead>\n",
       "  <tbody>\n",
       "    <tr>\n",
       "      <th>Mthly_HH_Income</th>\n",
       "      <td>1.000000</td>\n",
       "      <td>0.649215</td>\n",
       "      <td>0.448317</td>\n",
       "      <td>0.036976</td>\n",
       "      <td>0.970315</td>\n",
       "      <td>0.347883</td>\n",
       "    </tr>\n",
       "    <tr>\n",
       "      <th>Mthly_HH_Expense</th>\n",
       "      <td>0.649215</td>\n",
       "      <td>1.000000</td>\n",
       "      <td>0.639702</td>\n",
       "      <td>0.405280</td>\n",
       "      <td>0.591222</td>\n",
       "      <td>0.311915</td>\n",
       "    </tr>\n",
       "    <tr>\n",
       "      <th>No_of_Fly_Members</th>\n",
       "      <td>0.448317</td>\n",
       "      <td>0.639702</td>\n",
       "      <td>1.000000</td>\n",
       "      <td>0.085808</td>\n",
       "      <td>0.430868</td>\n",
       "      <td>0.597482</td>\n",
       "    </tr>\n",
       "    <tr>\n",
       "      <th>Emi_or_Rent_Amt</th>\n",
       "      <td>0.036976</td>\n",
       "      <td>0.405280</td>\n",
       "      <td>0.085808</td>\n",
       "      <td>1.000000</td>\n",
       "      <td>0.002716</td>\n",
       "      <td>-0.097431</td>\n",
       "    </tr>\n",
       "    <tr>\n",
       "      <th>Annual_HH_Income</th>\n",
       "      <td>0.970315</td>\n",
       "      <td>0.591222</td>\n",
       "      <td>0.430868</td>\n",
       "      <td>0.002716</td>\n",
       "      <td>1.000000</td>\n",
       "      <td>0.296679</td>\n",
       "    </tr>\n",
       "    <tr>\n",
       "      <th>No_of_Earning_Members</th>\n",
       "      <td>0.347883</td>\n",
       "      <td>0.311915</td>\n",
       "      <td>0.597482</td>\n",
       "      <td>-0.097431</td>\n",
       "      <td>0.296679</td>\n",
       "      <td>1.000000</td>\n",
       "    </tr>\n",
       "  </tbody>\n",
       "</table>\n",
       "</div>"
      ],
      "text/plain": [
       "                       Mthly_HH_Income  Mthly_HH_Expense  No_of_Fly_Members  \\\n",
       "Mthly_HH_Income               1.000000          0.649215           0.448317   \n",
       "Mthly_HH_Expense              0.649215          1.000000           0.639702   \n",
       "No_of_Fly_Members             0.448317          0.639702           1.000000   \n",
       "Emi_or_Rent_Amt               0.036976          0.405280           0.085808   \n",
       "Annual_HH_Income              0.970315          0.591222           0.430868   \n",
       "No_of_Earning_Members         0.347883          0.311915           0.597482   \n",
       "\n",
       "                       Emi_or_Rent_Amt  Annual_HH_Income  \\\n",
       "Mthly_HH_Income               0.036976          0.970315   \n",
       "Mthly_HH_Expense              0.405280          0.591222   \n",
       "No_of_Fly_Members             0.085808          0.430868   \n",
       "Emi_or_Rent_Amt               1.000000          0.002716   \n",
       "Annual_HH_Income              0.002716          1.000000   \n",
       "No_of_Earning_Members        -0.097431          0.296679   \n",
       "\n",
       "                       No_of_Earning_Members  \n",
       "Mthly_HH_Income                     0.347883  \n",
       "Mthly_HH_Expense                    0.311915  \n",
       "No_of_Fly_Members                   0.597482  \n",
       "Emi_or_Rent_Amt                    -0.097431  \n",
       "Annual_HH_Income                    0.296679  \n",
       "No_of_Earning_Members               1.000000  "
      ]
     },
     "execution_count": 13,
     "metadata": {},
     "output_type": "execute_result"
    }
   ],
   "source": [
    "print(\"Correaltion using Library Function is \")\n",
    "df.corr()"
   ]
  },
  {
   "cell_type": "markdown",
   "metadata": {
    "id": "sb6TE6WwgRtv"
   },
   "source": [
    "<b>7.Normal Distribution N($\\mu$ ,$\\sigma^{2}$):</b> <p>\n",
    "<ul>\n",
    " <li>A normal distribution, sometimes called the bell curve, is a distribution that occurs naturally in many situations.</li>\n",
    " <li>In a Standard Normal Distribution the mean is zero and the standard deviation is 1. </li>\n",
    " <li>It has zero skew and a kurtosis of 3. </li>\n",
    " </ul>\n",
    "     "
   ]
  },
  {
   "cell_type": "markdown",
   "metadata": {
    "id": "wsKoNc8jX5AG"
   },
   "source": [
    "$$ y = \\frac {1}{\\sigma \\sqrt {2 \\pi}}e^\\frac {-(x - \\mu)^2}{2 \\sigma^2} $$"
   ]
  },
  {
   "cell_type": "markdown",
   "metadata": {
    "id": "HTDr6hSgkUnF"
   },
   "source": [
    "<img src=\"nd.svg\">\n"
   ]
  },
  {
   "cell_type": "markdown",
   "metadata": {},
   "source": [
    "<b>8.Properties of Normal Distribution:</b> <p>\n",
    "<ol type = 'a' >\n",
    "<li>The mean, mode and median are all equal.</li>\n",
    "<li>Curve is symmentrical and bell shaped. Exactly half of the values are to the left of center and exactly half the values are to the right.</li>\n",
    "<li>The total area under the curve (AUC) of standard normal distribution is 1.</li>\n",
    "\n",
    "\n",
    "</ol>"
   ]
  },
  {
   "cell_type": "code",
   "execution_count": 14,
   "metadata": {},
   "outputs": [
    {
     "data": {
      "text/plain": [
       "Text(0.5, 1.0, 'Normal Plot of Monthly income')"
      ]
     },
     "execution_count": 14,
     "metadata": {},
     "output_type": "execute_result"
    },
    {
     "data": {
      "image/png": "[encoded data removed]",
      "text/plain": [
       "<Figure size 864x576 with 1 Axes>"
      ]
     },
     "metadata": {
      "needs_background": "light"
     },
     "output_type": "display_data"
    }
   ],
   "source": [
    "import matplotlib.pyplot as plt\n",
    "import seaborn as sns\n",
    "plt.figure(figsize=(12,8))\n",
    "plt.subplot(231)\n",
    "sns.distplot(df['Mthly_HH_Income'])\n",
    "plt.title(\"Normal Plot of Monthly income\")"
   ]
  },
  {
   "cell_type": "markdown",
   "metadata": {
    "id": "_xgj0TVWGtau"
   },
   "source": [
    "<img src=\"snd.png\">\n"
   ]
  },
  {
   "cell_type": "markdown",
   "metadata": {
    "id": "6FQ0XGOYH3MS"
   },
   "source": [
    "From the figure we can infer about standard deviations and the mean:\n",
    "* 68% of the data falls within one standard deviation of the mean.\n",
    "* 95% of the data falls within two standard deviations of the mean.\n",
    "* 99.7% of the data falls within three standard deviations of the mean."
   ]
  },
  {
   "cell_type": "markdown",
   "metadata": {
    "id": "gjFALzICI5BW"
   },
   "source": [
    "<b>9. Positively Skewed distribution & Negatively Skewed Normal Distribution:</b> <p>\n",
    "<ol type =\"1\"><li>A positively skewed distribution is the distribution with the tail on its right side. The value of skewness for a positively skewed distribution is greater than zero. the value of mean is the greatest one followed by median and then by mode i.e Mean > Median > Mode.</li>\n",
    "<li>Negatively skewed distribution is the distribution with the tail on its left side. The value of skewness for a negatively skewed distribution is less than zero. You can also see in the above figure that the mean < median < mode.</li>\n",
    "</ol>\n"
   ]
  },
  {
   "cell_type": "markdown",
   "metadata": {
    "id": "t8ftJJuEJ96B"
   },
   "source": [
    "<img src=\"pos_neg.png\">\n"
   ]
  },
  {
   "cell_type": "code",
   "execution_count": 15,
   "metadata": {},
   "outputs": [
    {
     "name": "stdout",
     "output_type": "stream",
     "text": [
      "This is positive skewed graph of Monethly Income data\n"
     ]
    },
    {
     "data": {
      "image/png": "[encoded data removed]",
      "text/plain": [
       "<Figure size 432x288 with 1 Axes>"
      ]
     },
     "metadata": {
      "needs_background": "light"
     },
     "output_type": "display_data"
    }
   ],
   "source": [
    "sns.distplot(df['Mthly_HH_Income'])\n",
    "plt.title(\"Normal Plot of Monthly income\")\n",
    "print(\"This is positive skewed graph of Monethly Income data\")"
   ]
  },
  {
   "cell_type": "markdown",
   "metadata": {},
   "source": [
    "<b>10. Effect on Mean, Median and Mode due to Skewness:</b> <p>\n",
    "The preferred measure of central tendency often depends on the shape of the distribution. Of the three measures of tendency, the mean is most heavily influenced by any outliers or skewness.\n",
    "<ol type=\"a\"><li>\n",
    "In a symmetrical distribution, the mean, median, and mode are all equal. In these cases, the mean is often the preferred measure of central tendency.</li>\n",
    "<li>For distributions that have outliers or are skewed, the median is often the preferred measure of central tendency because the median is more resistant to outliers than the mean. Below you will see how the direction of skewness impacts the order of the mean, median, and mode.</li>\n",
    "    <li>Mean is always impacted by outliers, So that the data is skewed</li>\n",
    "   <li>Whereas,In Median and Mode it cannot be affected by outliers. That is Median and mode are very robust to outliers.</li>\n",
    "</ol>"
   ]
  },
  {
   "cell_type": "markdown",
   "metadata": {},
   "source": [
    "<b> 11. Explain QQ Plot and show the implementation of the same:</b> <p>\n",
    "<ul><li>A normal probability plot, or more specifically a quantile-quantile (Q-Q) plot, shows the distribution of the data against the expected normal distribution.</li>\n",
    "<li>Q Q Plots (Quantile-Quantile plots) are plots of two quantiles against each other. A quantile is a fraction where certain values fall below that quantile. For example, the median is a quantile where 50% of the data fall below that point and 50% lie above it. The purpose of Q Q plots is to find out if two sets of data come from the same distribution. </li>\n",
    "<li>For normally distributed data, observations should lie approximately on a straight line. If the data is non-normal, the points form a curve that deviates markedly from a straight line. Possible outliers are points at the ends of the line, distanced from the bulk of the observations.</li>\n",
    "<li>One of the methods used to verify the normality of errors of a regression model is to construct a Q-Q plot of the residuals. If the points are aligned on the line. <b>x=y</b></li>\n",
    "<ul>"
   ]
  },
  {
   "cell_type": "markdown",
   "metadata": {},
   "source": [
    "<img src=\"qq2.png\">\n"
   ]
  },
  {
   "cell_type": "markdown",
   "metadata": {},
   "source": [
    "<img src=\"qq1.jpeg\">\n"
   ]
  },
  {
   "cell_type": "code",
   "execution_count": 16,
   "metadata": {},
   "outputs": [
    {
     "ename": "NameError",
     "evalue": "name 'stats' is not defined",
     "output_type": "error",
     "traceback": [
      "\u001b[1;31m---------------------------------------------------------------------------\u001b[0m",
      "\u001b[1;31mNameError\u001b[0m                                 Traceback (most recent call last)",
      "\u001b[1;32m<ipython-input-16-3ef7c06a7f4b>\u001b[0m in \u001b[0;36m<module>\u001b[1;34m\u001b[0m\n\u001b[0;32m      1\u001b[0m \u001b[0mplt\u001b[0m\u001b[1;33m.\u001b[0m\u001b[0mfigure\u001b[0m\u001b[1;33m(\u001b[0m\u001b[0mfigsize\u001b[0m\u001b[1;33m=\u001b[0m\u001b[1;33m(\u001b[0m\u001b[1;36m12\u001b[0m\u001b[1;33m,\u001b[0m\u001b[1;36m8\u001b[0m\u001b[1;33m)\u001b[0m\u001b[1;33m)\u001b[0m\u001b[1;33m\u001b[0m\u001b[1;33m\u001b[0m\u001b[0m\n\u001b[0;32m      2\u001b[0m \u001b[0mplt\u001b[0m\u001b[1;33m.\u001b[0m\u001b[0msubplot\u001b[0m\u001b[1;33m(\u001b[0m\u001b[1;36m232\u001b[0m\u001b[1;33m)\u001b[0m\u001b[1;33m\u001b[0m\u001b[1;33m\u001b[0m\u001b[0m\n\u001b[1;32m----> 3\u001b[1;33m \u001b[0mstats\u001b[0m\u001b[1;33m.\u001b[0m\u001b[0mprobplot\u001b[0m\u001b[1;33m(\u001b[0m\u001b[0mdf\u001b[0m\u001b[1;33m[\u001b[0m\u001b[1;34m'Mthly_HH_Expense'\u001b[0m\u001b[1;33m]\u001b[0m\u001b[1;33m,\u001b[0m \u001b[0mdist\u001b[0m\u001b[1;33m=\u001b[0m\u001b[1;34m\"norm\"\u001b[0m\u001b[1;33m,\u001b[0m \u001b[0mplot\u001b[0m\u001b[1;33m=\u001b[0m\u001b[0mplt\u001b[0m\u001b[1;33m)\u001b[0m\u001b[1;33m\u001b[0m\u001b[1;33m\u001b[0m\u001b[0m\n\u001b[0m\u001b[0;32m      4\u001b[0m \u001b[0mplt\u001b[0m\u001b[1;33m.\u001b[0m\u001b[0mtitle\u001b[0m\u001b[1;33m(\u001b[0m\u001b[1;34m\"Q-Q plot of Monthly Expenses\"\u001b[0m\u001b[1;33m)\u001b[0m\u001b[1;33m\u001b[0m\u001b[1;33m\u001b[0m\u001b[0m\n\u001b[0;32m      5\u001b[0m \u001b[0mplt\u001b[0m\u001b[1;33m.\u001b[0m\u001b[0msubplot\u001b[0m\u001b[1;33m(\u001b[0m\u001b[1;36m233\u001b[0m\u001b[1;33m)\u001b[0m\u001b[1;33m\u001b[0m\u001b[1;33m\u001b[0m\u001b[0m\n",
      "\u001b[1;31mNameError\u001b[0m: name 'stats' is not defined"
     ]
    },
    {
     "data": {
      "image/png": "[encoded data removed]",
      "text/plain": [
       "<Figure size 864x576 with 1 Axes>"
      ]
     },
     "metadata": {
      "needs_background": "light"
     },
     "output_type": "display_data"
    }
   ],
   "source": [
    "plt.figure(figsize=(12,8))\n",
    "plt.subplot(232)\n",
    "stats.probplot(df['Mthly_HH_Expense'], dist=\"norm\", plot=plt)\n",
    "plt.title(\"Q-Q plot of Monthly Expenses\")\n",
    "plt.subplot(233)\n",
    "stats.probplot(df['Annual_HH_Income'], dist=\"norm\", plot=plt)\n",
    "plt.title(\"Q-Q plot of Annual income\")\n",
    "plt.show()\n",
    "print(\"Q-Q plots of Monthly Expense and Annual Income\")"
   ]
  },
  {
   "cell_type": "markdown",
   "metadata": {},
   "source": [
    "From the above Q-Q plot we can understand that data for Monethly Expense and Annual income both are not normally distributed as the actual datapoints deviate from the 45 degree line (y=x)<p>\n",
    "    This tells us that data is skewed at multiple points\n"
   ]
  },
  {
   "cell_type": "markdown",
   "metadata": {},
   "source": [
    "<b> 12. Explain Box Cox and show the implementation of the same:</b> <p>\n",
    "The Box-Cox plot is a tool to help you determine the most appropriate power transformation to apply to response data. Most data transformations can be described by the power function,\n",
    "\n",
    "Given below are the commonly used transformations for Box-Cox:\n",
    "<ul><li>\n",
    "λ = 1 -> no transformation\n",
    "</li><li>\n",
    "λ = 0.5 -> square root\n",
    "</li><li>\n",
    "λ = 0 -> natural log\n",
    "</li><li>\n",
    "λ = -0.5 -> inverse square root.\n",
    "</li><li>\n",
    "λ = -1 -> inverse\n",
    "</li></ul>\n",
    "Power law transformations can only be performed on responses that are greater than zero, hence if data is negetive then we can add a contant to make all data positive.\n",
    "<ul><li>A Box Cox transformation is a transformation of a non-normal dependent variables into a normal shape.</li>\n",
    "<li>Normality is an important assumption of many stastical techniques.</li>\n",
    "<li>The Box-Cox transformation transforms our data so that it closely resembles a normal distribution.   </li>\n",
    "</ul>"
   ]
  },
  {
   "cell_type": "markdown",
   "metadata": {},
   "source": [
    "<img src=\"q.jpeg\">\n",
    "\n",
    "Before transformation\n"
   ]
  },
  {
   "cell_type": "markdown",
   "metadata": {},
   "source": [
    "<img src=\"bc.jpeg\">\n",
    "after doing Box-Cox transformation"
   ]
  },
  {
   "cell_type": "code",
   "execution_count": 17,
   "metadata": {},
   "outputs": [
    {
     "data": {
      "image/png": "[encoded data removed]",
      "text/plain": [
       "<Figure size 576x576 with 1 Axes>"
      ]
     },
     "metadata": {
      "needs_background": "light"
     },
     "output_type": "display_data"
    }
   ],
   "source": [
    "from scipy.stats import boxcox\n",
    "tdata = boxcox(df['Mthly_HH_Expense'])[0]\n",
    "plt.figure(figsize = (8, 8))\n",
    "sns.distplot(tdata)\n",
    "plt.show()"
   ]
  },
  {
   "cell_type": "code",
   "execution_count": null,
   "metadata": {},
   "outputs": [],
   "source": []
  }
 ],
 "metadata": {
  "colab": {
   "collapsed_sections": [],
   "name": "Task1_DescriptiveStatistics.ipynb",
   "provenance": []
  },
  "kernelspec": {
   "display_name": "Python 3",
   "language": "python",
   "name": "python3"
  },
  "language_info": {
   "codemirror_mode": {
    "name": "ipython",
    "version": 3
   },
   "file_extension": ".py",
   "mimetype": "text/x-python",
   "name": "python",
   "nbconvert_exporter": "python",
   "pygments_lexer": "ipython3",
   "version": "3.8.3"
  }
 },
 "nbformat": 4,
 "nbformat_minor": 1
}
